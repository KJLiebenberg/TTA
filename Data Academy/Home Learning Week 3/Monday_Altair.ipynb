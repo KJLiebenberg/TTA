{
 "cells": [
  {
   "cell_type": "markdown",
   "metadata": {},
   "source": [
    "\n",
    "Select a data set from Kraggle: https://www.kaggle.com/iamsouravbanerjee/top-100-greatest-hollywood-actors-of-all-time\n",
    "Note: This data set has been amended by me to include an extra column for each actor's country of origin.\n",
    "\n",
    "This particular data set was chosen because:\n",
    "\n",
    "* There is a sufficiently large number of rows (100) to warrant a scatter plot\n",
    "* There are enough columns of interesting data, but not too many to be overwhelming\n",
    "* A visual representation of the number of award nominations vs award wins is intuitively understood and of interest to a user\n",
    "* The data set is relateable - most people know the names of the actors and are interested in their country of origin\n",
    "\n",
    "VS Code: \n",
    "* Import the libraries for Altair and Pandas (Altair has to be installed first).\n",
    "* The shape and a sample of the data set are shown as a sanity check to ensure it has been read accurately.\n"
   ]
  },
  {
   "cell_type": "code",
   "execution_count": null,
   "metadata": {},
   "outputs": [],
   "source": [
    "import altair as alt\n",
    "import pandas as pd\n",
    "\n",
    "Hollywood_Data = pd.read_csv(\"Hollywood_Actors.csv\")\n",
    "Hollywood_Data.shape\n",
    "Hollywood_Data.sample()"
   ]
  },
  {
   "cell_type": "markdown",
   "metadata": {},
   "source": [
    "Create a scatter chart showing each actor's number of BAFTA nominations and BAFTA wins.\n",
    "Each data point is represented by a configurable point shape.\n",
    "Each data point should be colour coded to the actor's country of origin.\n",
    "The relevant actor's name should appear when the cursor hovers over the data point.\n",
    "Make the chart interactive."
   ]
  },
  {
   "cell_type": "code",
   "execution_count": null,
   "metadata": {},
   "outputs": [],
   "source": [
    "alt.Chart(Hollywood_Data).mark_point().encode(\n",
    "    x='BAFTA Nominations',\n",
    "    y='BAFTAs',\n",
    "    color='Country',\n",
    "    tooltip='Name'\n",
    ").properties(\n",
    "    title='BAFTA Nominations and Wins'\n",
    ").interactive()"
   ]
  },
  {
   "cell_type": "markdown",
   "metadata": {},
   "source": [
    "Interactive Data Dashboard:\n",
    "\n",
    "Allow the user to select an area on the graph, the data points in this area are coloured according to country\n",
    "while those outside of the selected area are greyed out. Use selection_interval() and add_slection()."
   ]
  },
  {
   "cell_type": "code",
   "execution_count": null,
   "metadata": {},
   "outputs": [],
   "source": [
    "Brush = alt.selection_interval()\n",
    "BAFTA_Points = alt.Chart(Hollywood_Data).mark_point().encode(\n",
    "    x='BAFTA Nominations',\n",
    "    y='BAFTAs',\n",
    "    tooltip='Name',\n",
    "    color=alt.condition(Brush,'Country',alt.value('lightgray'))\n",
    ").add_selection(\n",
    "    Brush\n",
    ")\n",
    "BAFTA_Points"
   ]
  },
  {
   "cell_type": "markdown",
   "metadata": {},
   "source": [
    "Create a second graph (a bar chart) to show how many BAFTA wins there are per country of origin."
   ]
  },
  {
   "cell_type": "code",
   "execution_count": null,
   "metadata": {},
   "outputs": [],
   "source": [
    "BAFTA_Bar = alt.Chart(Hollywood_Data).mark_bar().encode(\n",
    "    y='Country',\n",
    "    x='BAFTAs',\n",
    "    color='Country'\n",
    ").properties(\n",
    "    title='BAFTA Wins per Country of Origin'\n",
    ")\n",
    "BAFTA_Bar"
   ]
  },
  {
   "cell_type": "markdown",
   "metadata": {},
   "source": [
    "Now associate the bar chart with the scatter plot by using tranform_filter()"
   ]
  },
  {
   "cell_type": "code",
   "execution_count": null,
   "metadata": {},
   "outputs": [],
   "source": [
    "BAFTA_Bar = alt.Chart(Hollywood_Data).mark_bar().encode(\n",
    "    y='Country',\n",
    "    x='BAFTAs',\n",
    "    color='Country'\n",
    ").properties(\n",
    "    title='BAFTA Wins per Country of Origin'\n",
    ").transform_filter(\n",
    "    Brush\n",
    ")\n",
    "BAFTA_Points & BAFTA_Bar\n",
    "\n"
   ]
  },
  {
   "cell_type": "markdown",
   "metadata": {},
   "source": [
    "Conclusions:\n",
    "\n",
    "* Most BAFTA winning actors are from America, followed by England.\n",
    "* Only actors from America and England have won 4 or more BAFTAs.\n",
    "* BAFTA nominations translate to wins very roughly 50% of the time with some notable exclusions:\n",
    "    * Albert Finney and Laurence Olivier both had a win rate that was lower than most\n",
    "    * Its mostly Americans who get nominated but then fail to win. Ever. Poor Robert de Niro!\n",
    "    * Daniel Day-Lewis and Peter Finch (both English) are BAFTA favourites, converting nominations to wins at a higher rate.\n",
    "\n",
    "On a personal note: I found this exercise quite tricky when trying to use a data set that differed significantly from the example.\n",
    "\n",
    "Some queries:\n",
    "\n",
    "* How do I get the tooltip to show more than one name at data point when there are a number of points at the same place?\n",
    "* How do you select for specific rows of data - eg at first I wanted to use a data set of life expectancy by country for a 20 year span. So how could I select a specific country (ie row) and show the data as x-axis year and y-axis life expectancy?\n"
   ]
  }
 ],
 "metadata": {
  "interpreter": {
   "hash": "76993eed1b6a0645746c31e214de43e95dfb1af1278d67abc1344b9bd9e6bc09"
  },
  "kernelspec": {
   "display_name": "Python 3.9.7 64-bit",
   "name": "python3"
  },
  "language_info": {
   "codemirror_mode": {
    "name": "ipython",
    "version": 3
   },
   "file_extension": ".py",
   "mimetype": "text/x-python",
   "name": "python",
   "nbconvert_exporter": "python",
   "pygments_lexer": "ipython3",
   "version": "3.9.7"
  },
  "orig_nbformat": 4
 },
 "nbformat": 4,
 "nbformat_minor": 2
}
