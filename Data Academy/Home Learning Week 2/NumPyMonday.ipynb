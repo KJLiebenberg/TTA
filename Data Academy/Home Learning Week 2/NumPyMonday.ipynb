{
 "cells": [
  {
   "cell_type": "markdown",
   "source": [
    "Session 2"
   ],
   "metadata": {}
  },
  {
   "cell_type": "markdown",
   "source": [
    "How to install numpy and pandas:\r\n",
    "pip install numpy\r\n",
    "pip install pandas"
   ],
   "metadata": {}
  },
  {
   "cell_type": "markdown",
   "source": [
    "Task 1: Create a 1D array of numbers from 0 to 9"
   ],
   "metadata": {}
  },
  {
   "cell_type": "code",
   "execution_count": null,
   "source": [
    "import numpy as np\r\n",
    "\r\n",
    "My_Array = np.arange(10)\r\n",
    "print(My_Array)"
   ],
   "outputs": [],
   "metadata": {}
  },
  {
   "cell_type": "markdown",
   "source": [
    "Task 2: Create a 3x3 NumPy array of all Boolean value Trues"
   ],
   "metadata": {}
  },
  {
   "cell_type": "code",
   "execution_count": null,
   "source": [
    "True_Array = np.full((3,3),True)\r\n",
    "print(\"Boolean True array:\",True_Array)"
   ],
   "outputs": [],
   "metadata": {}
  },
  {
   "cell_type": "markdown",
   "source": [
    "Task 3: Extract all odd numbers from array of 1 - 10"
   ],
   "metadata": {}
  },
  {
   "cell_type": "code",
   "execution_count": null,
   "source": [
    "My_Array = np.arange(1,11)\r\n",
    "print(\"Array:\",My_Array)\r\n",
    "My_Odd_Array = My_Array[My_Array % 2 == 1]\r\n",
    "print(\"Odd numbers extracted from array:\",My_Odd_Array)"
   ],
   "outputs": [],
   "metadata": {}
  },
  {
   "cell_type": "markdown",
   "source": [
    "Task 4: Replace all odd numbers in an array of 1-10 with the value -1"
   ],
   "metadata": {}
  },
  {
   "cell_type": "code",
   "execution_count": null,
   "source": [
    "My_Array = np.arange(1,11)\r\n",
    "print(\"Array:\",My_Array)\r\n",
    "My_Array = np.where(My_Array % 2 == 1, -1, My_Array)\r\n",
    "print(\"Array with all odd numbers replaced with -1:\",My_Array)"
   ],
   "outputs": [],
   "metadata": {}
  },
  {
   "cell_type": "markdown",
   "source": [
    "Task 5: Convert a 1D array to a 2D array with 2 rows"
   ],
   "metadata": {}
  },
  {
   "cell_type": "code",
   "execution_count": null,
   "source": [
    "My_Array_1d = np.arange(1,11)\r\n",
    "print(\"1d Array:\",My_Array_1d)\r\n",
    "My_Array_2d = My_Array_1d.reshape(2,5)\r\n",
    "print(\"Converted to a 2d array with 2 rows:\",My_Array_2d)"
   ],
   "outputs": [],
   "metadata": {}
  },
  {
   "cell_type": "markdown",
   "source": [
    "Task 6: Create 2 arrays a and b. Stack these two arrays vertically. Use np.dot and np.sum to calculate totals."
   ],
   "metadata": {}
  },
  {
   "cell_type": "code",
   "execution_count": null,
   "source": [
    "a = np.arange(0,9).reshape(3,3)\r\n",
    "print(\"a:\",a)\r\n",
    "b = np.arange(9,18).reshape(3,3)\r\n",
    "print(\"b:\",b)\r\n",
    "c = np.dot(a,b)\r\n",
    "print(\"dot array:\",c)\r\n",
    "d = np.sum(c)\r\n",
    "print(\"sum:\",d)\r\n"
   ],
   "outputs": [],
   "metadata": {}
  },
  {
   "cell_type": "markdown",
   "source": [
    "Extension:"
   ],
   "metadata": {}
  },
  {
   "cell_type": "markdown",
   "source": [
    "Task 1: Create the following pattern without hardcoding:\r\n",
    "\r\n",
    "> array([1,1,1,2,2,2,3,3,3,1,2,3,1,2,3,1,2,3])"
   ],
   "metadata": {}
  },
  {
   "cell_type": "code",
   "execution_count": null,
   "source": [
    "One_Two_Three = np.arange(1,4)\r\n",
    "print(\"Basic array:\",One_Two_Three)\r\n",
    "Pattern1 = np.repeat(One_Two_Three,3)\r\n",
    "print(\"Numer repeat array:\",Pattern1)\r\n",
    "Pattern2 = np.append(np.append(One_Two_Three,One_Two_Three),One_Two_Three) # Simpler function for this?\r\n",
    "print(\"Sequence repeat array:\",Pattern2)\r\n",
    "np.append(Pattern1,Pattern2)"
   ],
   "outputs": [],
   "metadata": {}
  },
  {
   "cell_type": "markdown",
   "source": [
    "Task 2: In two arrays a(1,2,3,4,5) and b(4,5,6,7,8,9) - remove all repeating items present in array b. Get all items between 3 and 7 from a and b and sum them together."
   ],
   "metadata": {}
  },
  {
   "cell_type": "code",
   "execution_count": null,
   "source": [
    "a = np.arange(1,6)\r\n",
    "print(\"a:\",a)\r\n",
    "b = np.arange(4,10)\r\n",
    "print(\"b:\",b)\r\n",
    "b = np.setdiff1d(b,a)\r\n",
    "print(\"b with repeats removed:\",b)\r\n",
    "a = a[(a>3)&(a<7)]\r\n",
    "print(\"a with elements between 3 and 7 only:\",a)\r\n",
    "b = b[(b>3)&(b<7)]\r\n",
    "print(\"b with elements between 3 and 7 only:\",b)\r\n",
    "sum = np.sum(a)+np.sum(b)\r\n",
    "print(\"sum of all numbers remaining in a and b:\",sum)"
   ],
   "outputs": [],
   "metadata": {}
  }
 ],
 "metadata": {
  "orig_nbformat": 4,
  "language_info": {
   "name": "python",
   "version": "3.9.7",
   "mimetype": "text/x-python",
   "codemirror_mode": {
    "name": "ipython",
    "version": 3
   },
   "pygments_lexer": "ipython3",
   "nbconvert_exporter": "python",
   "file_extension": ".py"
  },
  "kernelspec": {
   "name": "python3",
   "display_name": "Python 3.9.7 64-bit"
  },
  "interpreter": {
   "hash": "76993eed1b6a0645746c31e214de43e95dfb1af1278d67abc1344b9bd9e6bc09"
  }
 },
 "nbformat": 4,
 "nbformat_minor": 2
}