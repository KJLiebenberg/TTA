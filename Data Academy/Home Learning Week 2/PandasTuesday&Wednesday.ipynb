{
 "cells": [
  {
   "cell_type": "markdown",
   "metadata": {},
   "source": [
    "Pandas Session 1 & 2"
   ]
  },
  {
   "cell_type": "markdown",
   "metadata": {},
   "source": [
    "Import the Holiday Data csv file"
   ]
  },
  {
   "cell_type": "code",
   "execution_count": null,
   "metadata": {},
   "outputs": [],
   "source": [
    "import pandas as pd\n",
    "data = pd.read_csv(\"Holiday_Data.csv\")\n",
    "print(data)       # Sanity check that the data looks correct"
   ]
  },
  {
   "cell_type": "markdown",
   "metadata": {},
   "source": [
    "1.  Show how many rows and columns \n",
    "    there are in the file"
   ]
  },
  {
   "cell_type": "code",
   "execution_count": null,
   "metadata": {},
   "outputs": [],
   "source": [
    "data.shape  # Shows that the data has \n",
    "            # 15 rows and 5 columns"
   ]
  },
  {
   "cell_type": "markdown",
   "metadata": {},
   "source": [
    "2. Print row 3-8 (using iloc/loc)"
   ]
  },
  {
   "cell_type": "code",
   "execution_count": null,
   "metadata": {},
   "outputs": [],
   "source": [
    "print(data.iloc[3:9]) # up to but not including row 9"
   ]
  },
  {
   "cell_type": "markdown",
   "metadata": {},
   "source": [
    "3. Find the mean number of all-inclusive hotels across all destinations"
   ]
  },
  {
   "cell_type": "code",
   "execution_count": null,
   "metadata": {},
   "outputs": [],
   "source": [
    "Mean_AllInclusive = data[\"All-Inclusive Hotels\"].mean()\n",
    "print(Mean_AllInclusive)"
   ]
  },
  {
   "cell_type": "markdown",
   "metadata": {},
   "source": [
    "4. Find the lowest scoring destination"
   ]
  },
  {
   "cell_type": "code",
   "execution_count": null,
   "metadata": {},
   "outputs": [],
   "source": [
    "Lowest_Score = data[\"Feedback Score\"].min()\n",
    "Lowest_Scoring_Destination = pd.read_csv(\"Holiday_Data.csv\",index_col = \"Feedback Score\")\n",
    "Lowest_Scoring_Destination = Lowest_Scoring_Destination.loc[[Lowest_Score]]\n",
    "print(Lowest_Scoring_Destination[[\"Destination\"]])\n"
   ]
  },
  {
   "cell_type": "markdown",
   "metadata": {},
   "source": [
    "5. Find the highest scoring destination"
   ]
  },
  {
   "cell_type": "code",
   "execution_count": null,
   "metadata": {},
   "outputs": [],
   "source": [
    "\n",
    "Highest_Score = data[\"Feedback Score\"].max()\n",
    "Highest_Scoring_Destination = pd.read_csv(\"Holiday_Data.csv\",index_col = \"Feedback Score\")\n",
    "Highest_Scoring_Destination = Highest_Scoring_Destination.loc[[Highest_Score]]\n",
    "print(Highest_Scoring_Destination[[\"Destination\"]])\n"
   ]
  },
  {
   "cell_type": "markdown",
   "metadata": {},
   "source": [
    "6. Find the destinations where there are more than 9 all-inclusive hotels"
   ]
  },
  {
   "cell_type": "code",
   "execution_count": null,
   "metadata": {},
   "outputs": [],
   "source": [
    "AllInc_Above9_Filter = data[\"All-Inclusive Hotels\"] > 9  # Returns booleans\n",
    "AllInc_Above9 = data[AllInc_Above9_Filter] # Uses booleans to filter data for True\n",
    "print(AllInc_Above9)"
   ]
  },
  {
   "cell_type": "markdown",
   "metadata": {},
   "source": [
    "7. Filter the data by score above 8"
   ]
  },
  {
   "cell_type": "code",
   "execution_count": null,
   "metadata": {},
   "outputs": [],
   "source": [
    "Score_Above_8_Filter = data[\"Feedback Score\"] > 8 # Returns booleans\n",
    "Score_Above_8 = data[Score_Above_8_Filter]\n",
    "print(Score_Above_8)"
   ]
  },
  {
   "cell_type": "markdown",
   "metadata": {},
   "source": [
    "8. Filter the data by score below 2"
   ]
  },
  {
   "cell_type": "code",
   "execution_count": null,
   "metadata": {},
   "outputs": [],
   "source": [
    "Score_Below_2_Filter = data[\"Feedback Score\"] < 2 # Returns booleans\n",
    "Score_Below_2 = data[Score_Below_2_Filter]\n",
    "print(Score_Below_2)"
   ]
  },
  {
   "cell_type": "markdown",
   "metadata": {},
   "source": [
    "Creating useful visualisations is easily done with matplotlib."
   ]
  },
  {
   "cell_type": "code",
   "execution_count": null,
   "metadata": {},
   "outputs": [],
   "source": [
    "import matplotlib.pyplot as plt"
   ]
  },
  {
   "cell_type": "markdown",
   "metadata": {},
   "source": [
    "9. Is there a correlation between the number of all-inclusive hotels and score?"
   ]
  },
  {
   "cell_type": "code",
   "execution_count": null,
   "metadata": {},
   "outputs": [],
   "source": [
    "# Create a scatter chart to show correlation\n",
    "\n",
    "data.plot.scatter(x=\"Feedback Score\", y=\"All-Inclusive Hotels\")"
   ]
  },
  {
   "cell_type": "markdown",
   "metadata": {},
   "source": [
    "10. Create a data visualisation diagram to show destination and highest scores. This is best achieved with a bar chart"
   ]
  },
  {
   "cell_type": "code",
   "execution_count": null,
   "metadata": {},
   "outputs": [],
   "source": [
    "Top_5_Destinations = data.nlargest(5,'Feedback Score')\n",
    "print(Top_5_Destinations)\n",
    "Top_5_Destinations.groupby('Destination').mean().plot.bar()"
   ]
  }
 ],
 "metadata": {
  "interpreter": {
   "hash": "76993eed1b6a0645746c31e214de43e95dfb1af1278d67abc1344b9bd9e6bc09"
  },
  "kernelspec": {
   "display_name": "Python 3.9.7 64-bit",
   "name": "python3"
  },
  "language_info": {
   "codemirror_mode": {
    "name": "ipython",
    "version": 3
   },
   "file_extension": ".py",
   "mimetype": "text/x-python",
   "name": "python",
   "nbconvert_exporter": "python",
   "pygments_lexer": "ipython3",
   "version": "3.9.7"
  },
  "orig_nbformat": 4
 },
 "nbformat": 4,
 "nbformat_minor": 2
}
