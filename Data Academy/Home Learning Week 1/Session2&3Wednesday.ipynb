{
 "cells": [
  {
   "cell_type": "markdown",
   "source": [
    "\r\n",
    "Session 2"
   ],
   "metadata": {}
  },
  {
   "cell_type": "markdown",
   "source": [
    "Task 1 ==>\r\n",
    "\r\n",
    "Convert a Flow Diagram into code: \r\n",
    "\r\n",
    "This program presents a survey to the user to gather information on their participation in sport. The user inputs their responses to a number of questions.  Their answers are then displayed. The user is asked to review the information and submit their answers if they are happy with them.  Otherwise they can start the survey over again."
   ],
   "metadata": {}
  },
  {
   "cell_type": "code",
   "execution_count": null,
   "source": [
    "# Define the sports and relevant data to be gathered in the survey\r\n",
    "Sports_List = [\"Rugby\",\"Football\",\"Hockey\",\"Netball\",\"Cricket\",\"Tennis\",\"Swimming\",\"any other sport\"]\r\n",
    "Respondent_Data_Headings = [\"Name:\",\"Age:\",\"Do you participate in any sport?\",\"Sports played:\",\"How many times per week:\"]\r\n",
    "\r\n",
    "# Initial message to user\r\n",
    "print(\"Welcome to the survey on participation in sports.\")\r\n",
    "print(\"Please answer the following questions:\")\r\n",
    "\r\n",
    "# This procedure will populate the Respondent_Data list for one user by asking for responses\r\n",
    "Survey_Procedure()\r\n",
    "\r\n",
    "def Survey_Procedure():  \r\n",
    "  # Create the default lists for sports and frequency, set to 'no' and '0/week'\r\n",
    "  Sports_Played = [\"n\",\"n\",\"n\",\"n\",\"n\",\"n\",\"n\",\"n\"]\r\n",
    "  Frequency = [0,0,0,0,0,0,0,0]\r\n",
    "  # Gather name, age and y/n for playing sport\r\n",
    "  Name = input(\"Please enter your name.\")\r\n",
    "  Respondent_Data[0] = Name\r\n",
    "  Age = int(input(\"Please enter your age.\"))\r\n",
    "  Respondent_Data[1] = Age\r\n",
    "  Do_you_play = input(\"Do you participate in any sport regularly? Please enter y for yes and n for no.\")\r\n",
    "  Respondent_Data[2] = Do_you_play\r\n",
    " \r\n",
    "  # If the user does play sport, gather relevant data and save in lists\r\n",
    "  if Do_you_play == \"y\":                   \r\n",
    "    for j in range(len(Sports_List)): # Goes through all the sports in the list \r\n",
    "      Sports_Played[j] = input(\"Do you participate in \"+Sports_List[j]+\"? Please enter y for yes and n for no\")\r\n",
    "      if Sports_Played[j] == \"y\":\r\n",
    "        Sports_Played[j] = Sports_List[j]\r\n",
    "        Frequency[j] = int(input(\"How many times per week do you participate in \"+Sports_List[j]+\"?\"))\r\n",
    "# If the user does not play sport, set lists to 'no' and '0/week\r\n",
    "  else:\r\n",
    "    Sports_Played = [\"n\",\"n\",\"n\",\"n\",\"n\",\"n\",\"n\",\"n\"]\r\n",
    "    Frequency = [0,0,0,0,0,0,0,0,]       \r\n",
    "# Populates the Respondent_Data list\r\n",
    "  Respondent_Data[3] = Sports_Played\r\n",
    "  Respondent_Data[4] = Frequency\r\n",
    "# Display gathered data to the user once all the questions have been answered\r\n",
    "  for i in range(len(Respondent_Data)):\r\n",
    "    print(Respondent_Data_Headings[i],\": \",Respondent_Data[i])\r\n",
    "# Allows user to check responses before submitting data\r\n",
    "  Submit = input(\"Thank you for participating in the survey.  Please check your answers and enter s if you wish to submit, and r if you wish to redo the survey.\")\r\n",
    "  if Submit == \"s\":\r\n",
    "   print(\"Thank you, your answers have been submitted.\")\r\n",
    "  else:\r\n",
    "    print(\"Your previous answers have not been recorded.\")\r\n",
    "    Survey_Procedure()"
   ],
   "outputs": [],
   "metadata": {}
  },
  {
   "cell_type": "markdown",
   "source": [
    "Task 2 ==>\r\n",
    "\r\n",
    "Motorbike depreciation calculation:\r\n",
    "Set up a function that performs the calculation by passing in parameters.\r\n",
    "Then, using a loop, print the value of the bike every following year until it falls below £1000."
   ],
   "metadata": {}
  },
  {
   "cell_type": "code",
   "execution_count": null,
   "source": [
    "Input_Value = float(input(\"Please enter the starting value of the motorbike\"))\r\n",
    "Input_Depreciation = float(input(\"Please enter the annual depreciation percentage as a number between 0 and 100\"))\r\n",
    "print(\"Motorbike's Initial value: £\",Input_Value)\r\n",
    "print(\"Annual Depreciation Percentage:\",Input_Depreciation,\"%\")\r\n",
    "\r\n",
    "def depreciate(Initial_Value,Percentage):\r\n",
    "    return Initial_Value*(100-Percentage)/100\r\n",
    "    \r\n",
    "Bike_Value = Input_Value\r\n",
    "year = 0\r\n",
    "while Bike_Value > 1000:\r\n",
    "    Bike_Value = depreciate(Bike_Value,Input_Depreciation)\r\n",
    "    Bike_Value = round(Bike_Value,2)\r\n",
    "    year += 1\r\n",
    "    # Only print out bike value if it is > £1000\r\n",
    "    if Bike_Value > 1000:\r\n",
    "        print(\"Motorbike's value after year\",year,\": £\",Bike_Value)"
   ],
   "outputs": [],
   "metadata": {}
  },
  {
   "cell_type": "markdown",
   "source": [
    "Task 3 ==>\r\n",
    "\r\n",
    "Write a program that will ask for two numbers from a user.\r\n",
    "Then offer an option menu giving them a choice of maths operators.\r\n",
    "Once the user has selected which operator they wish to use,\r\n",
    "perform the calculation by using a procedure and passing parameters."
   ],
   "metadata": {}
  },
  {
   "cell_type": "code",
   "execution_count": null,
   "source": [
    "# Input the two numbers\r\n",
    "First_Number = float(input(\"Please enter your first number.\"))\r\n",
    "print(\"Your first number is\",First_Number)\r\n",
    "Second_Number = float(input(\"Please enter your second number.\"))\r\n",
    "print(\"Your second number is\",Second_Number)\r\n",
    "\r\n",
    "# Show the options on the operator menu\r\n",
    "Operator_List = [\"a\",\"b\",\"c\",\"d\",\"e\"]\r\n",
    "print(\"Please select one of the following operations:\")\r\n",
    "print(\" a: Add\")\r\n",
    "print(\" b: Subtract\")\r\n",
    "print(\" c: Multiply\")\r\n",
    "print(\" d: Divide\")\r\n",
    "print(\" e: Exponent\")\r\n",
    "\r\n",
    "# Input operator selection   \r\n",
    "Operator = input(\"Please enter your chosen operation here.\")\r\n",
    "\r\n",
    "while Operator not in Operator_List:\r\n",
    "    Operator = input(\"That is not a valid choice. Please try again.\")\r\n",
    "print(\"Your chosen Operator is\",Operator)\r\n",
    "\r\n",
    "# Call the procedure to perform the calculation and display the result\r\n",
    "Perform_Calculation(First_Number,Second_Number,Operator)\r\n",
    "\r\n",
    "# Define the calculation procedure\r\n",
    "def Perform_Calculation(First_Number,Second_Number,Operator):    \r\n",
    "    print(\"Performing Calculation...\")\r\n",
    "    if Operator == \"a\":\r\n",
    "        Operation = \"+\"\r\n",
    "        Answer = First_Number + Second_Number\r\n",
    "    elif Operator == \"b\":\r\n",
    "        Operation = \"-\"\r\n",
    "        Answer = First_Number - Second_Number\r\n",
    "    elif Operator == \"c\":\r\n",
    "        Operation = \"x\"\r\n",
    "        Answer = First_Number*Second_Number\r\n",
    "    elif Operator == 'd':\r\n",
    "        Operation = \"/\"\r\n",
    "        Answer = First_Number/Second_Number\r\n",
    "    else:\r\n",
    "        Operation = \"^\"\r\n",
    "        Answer = First_Number**Second_Number\r\n",
    "    print(\"Your chosen calculation is:\",First_Number,Operation,Second_Number,\"=\",Answer)"
   ],
   "outputs": [],
   "metadata": {}
  },
  {
   "cell_type": "markdown",
   "source": [
    "Session 3: Reading, Writing and Amending a File"
   ],
   "metadata": {}
  },
  {
   "cell_type": "markdown",
   "source": [
    "Task 1 ==> \r\n",
    "\r\n",
    "Write a program that allows you to enter x amount of numbers and stores them in a file called \"Numbers\""
   ],
   "metadata": {}
  },
  {
   "cell_type": "code",
   "execution_count": null,
   "source": [
    "my_file = open(\"Numbers.txt\",\"w\")\r\n",
    "Number = int(input(\"Please enter how many numbers you would like to write to the file.\"))\r\n",
    "for i in range(Number):\r\n",
    "    my_file.write(str((i+1)))\r\n",
    "    my_file.write(\":    \")\r\n",
    "    Input_Number = input(\"Enter number\")\r\n",
    "    my_file.write(Input_Number)\r\n",
    "    my_file.write(\"\\n\")\r\n",
    "my_file.close()"
   ],
   "outputs": [],
   "metadata": {}
  },
  {
   "cell_type": "markdown",
   "source": [
    "Task 2 ==>\r\n",
    "\r\n",
    "Write a program to ask a student for their percentage mark and convert this to a grade.\r\n",
    "This conversion will be done in a function called mark_grade.\r\n",
    "Ask the User for their target grade and print this with their mark.\r\n",
    "Display a suitable message according to whether they achieved their target or not."
   ],
   "metadata": {}
  },
  {
   "cell_type": "code",
   "execution_count": null,
   "source": [
    "def mark_grade(mark_percentage):\r\n",
    "    if mark_percentage >= 71.5:\r\n",
    "        Grade = 9\r\n",
    "    elif mark_percentage >= 62.5:\r\n",
    "        Grade = 8\r\n",
    "    elif mark_percentage >= 54:\r\n",
    "        Grade = 7\r\n",
    "    elif mark_percentage >= 44.5:\r\n",
    "        Grade = 6\r\n",
    "    elif mark_percentage >= 35:\r\n",
    "        Grade = 5\r\n",
    "    elif mark_percentage >= 25.5:\r\n",
    "        Grade = 4\r\n",
    "    elif mark_percentage >= 20.5:\r\n",
    "        Grade = 3\r\n",
    "    else:\r\n",
    "        Grade = 2\r\n",
    "    return Grade\r\n",
    "  \r\n",
    "Mark_Percentage = float(input(\"Please enter your percentage mark.\"))\r\n",
    "Target_Grade = int(input(\"Please enter your target grade between 9 and 2\"))\r\n",
    "print(\"Your mark is: \",Mark_Percentage,\"%\")\r\n",
    "Mark_Grade = mark_grade(Mark_Percentage)\r\n",
    "print(\"Your grade is: \",Mark_Grade) \r\n",
    "print(\"Your target grade is\",Target_Grade)\r\n",
    "if Mark_Grade == Target_Grade:\r\n",
    "    print(\"Congratulations! You have achieved your target grade.\")\r\n",
    "elif Mark_Grade > Target_Grade:\r\n",
    "    print(\"Brilliant! You have exceeded your target.\")\r\n",
    "else:\r\n",
    "    print(\"Keep working hard and you may still reach your target.\")"
   ],
   "outputs": [],
   "metadata": {}
  }
 ],
 "metadata": {
  "orig_nbformat": 4,
  "language_info": {
   "name": "python",
   "version": "3.9.7",
   "mimetype": "text/x-python",
   "codemirror_mode": {
    "name": "ipython",
    "version": 3
   },
   "pygments_lexer": "ipython3",
   "nbconvert_exporter": "python",
   "file_extension": ".py"
  },
  "kernelspec": {
   "name": "python3",
   "display_name": "Python 3.9.7 64-bit"
  },
  "interpreter": {
   "hash": "76993eed1b6a0645746c31e214de43e95dfb1af1278d67abc1344b9bd9e6bc09"
  }
 },
 "nbformat": 4,
 "nbformat_minor": 2
}