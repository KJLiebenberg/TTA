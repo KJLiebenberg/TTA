{
 "cells": [
  {
   "cell_type": "markdown",
   "source": [
    "Session 1"
   ],
   "metadata": {}
  },
  {
   "cell_type": "markdown",
   "source": [
    "Task 1 ==> Guess my number"
   ],
   "metadata": {}
  },
  {
   "cell_type": "code",
   "execution_count": null,
   "source": [
    "import random\r\n",
    "Random_Number = random.randint(1,10)\r\n",
    "User_Name = input(\"Please enter your name.\")\r\n",
    "User_Number = int(input(\"Try and guess my number between 1 and 10.\"))\r\n",
    "while User_Number > 10:\r\n",
    "    User_Number = int(input(\"Sorry, that number is too large.  Choose a number between 1 and 10.\"))\r\n",
    "while User_Number < 1:\r\n",
    "    User_Number = int(input(\"Sorry, that number is too small. Please input a number between 1 and 10.\"))\r\n",
    "if User_Number == Random_Number:\r\n",
    "    print(\"Well done,\"+User_Name+\". You guessed correctly!\",User_Number,\"is correct.\")\r\n",
    "else:\r\n",
    "    print(\"Sorry, \"+User_Name+\".\",Random_Number,\"is the correct number!\")"
   ],
   "outputs": [],
   "metadata": {}
  },
  {
   "cell_type": "markdown",
   "source": [
    "Task 2 ==> Some really bad jokes!"
   ],
   "metadata": {}
  },
  {
   "cell_type": "code",
   "execution_count": null,
   "source": [
    "Joke_1 = \"What did the zero say to the eight? Nice Belt!\"\r\n",
    "Joke_2 = \"Two peanuts walked down a dark alley late at night. One was a salted.\"\r\n",
    "Joke_3 = \"A horse walked into a bar.  The barman asked: Why the long face?\"\r\n",
    "Error_Message = \"Sorry, that number is not between 1 and 100. Please try again.\"\r\n",
    "\r\n",
    "User_Number = int(input(\"Enter your favourite number between 1nd 100.\"))\r\n",
    "\r\n",
    "while (User_Number > 100) or (User_Number < 1):\r\n",
    "    User_Number = int(input(Error_Message))\r\n",
    "if User_Number <= 33:\r\n",
    "    print(Joke_1)\r\n",
    "elif User_Number <= 66:\r\n",
    "    print(Joke_2)\r\n",
    "else:\r\n",
    "    print(Joke_3)"
   ],
   "outputs": [],
   "metadata": {}
  },
  {
   "cell_type": "markdown",
   "source": [
    "Task 3 ==> Your favourite meal"
   ],
   "metadata": {}
  },
  {
   "cell_type": "code",
   "execution_count": null,
   "source": [
    "print(\"Hi there.\")\r\n",
    "print(\"I'd like to hear all about your favourite meal.\")\r\n",
    "Starter = input(\"Please start by entering your favourite starter.\")\r\n",
    "MainCourse = input(\"Next, I'd like you to share your chosen main course.\")\r\n",
    "Dessert = input(\"And what would your favourite dessert be?\")\r\n",
    "print(\"That sounds delicious.\")\r\n",
    "Drink = input(\"What would you choose to drink with your favourite meal?\")\r\n",
    "print(\"Excellent choice!\")\r\n",
    "print(\"Your favourite meal is \"+Starter+\", followed by \"+MainCourse+\", enjoyed with a glass of \"+Drink+\" and rounded off with \"+Dessert+\" for dessert.\")"
   ],
   "outputs": [],
   "metadata": {}
  },
  {
   "cell_type": "markdown",
   "source": [
    "Task 4 ==>    Motorbike depreciation\r\n",
    "\r\n",
    "A motorbike costs £2000 and loses 10% of its value every year.\r\n",
    "Using a loop, print the value of the bike every following year until it falls below £1000."
   ],
   "metadata": {}
  },
  {
   "cell_type": "code",
   "execution_count": null,
   "source": [
    "Bike_Value = 2000\r\n",
    "print(\"Inital value : £\",Bike_Value)\r\n",
    "Year = 0\r\n",
    "while Bike_Value > 1000:\r\n",
    "    Year =+ 1\r\n",
    "    Bike_Value = round(Bike_Value*0.9,2)\r\n",
    "    print(\"Value after year\",Year, \": £\",Bike_Value)"
   ],
   "outputs": [],
   "metadata": {}
  },
  {
   "cell_type": "markdown",
   "source": [
    "Task 5 ==>    Write a program which will ask for two numbers from a user.\r\n",
    "\r\n",
    "Then offer a menu to the user giving them a choice of operators\r\n",
    "Operators include: +,-,/,*,**\r\n",
    "Perform the Calculation"
   ],
   "metadata": {}
  },
  {
   "cell_type": "code",
   "execution_count": null,
   "source": [
    "First_Number = float(input(\"Please enter your first number.\"))\r\n",
    "Second_Number = float(input(\"Please enter your second number.\"))\r\n",
    "\r\n",
    "print(\"Please select one of the following operations:\")\r\n",
    "print(\"a: Add\")\r\n",
    "print(\"b: Subtract\")\r\n",
    "print(\"c: Multiply\")\r\n",
    "print(\"d: Divide\")\r\n",
    "print(\"e: Exponent\")\r\n",
    "\r\n",
    "Operator = input(\"Please enter your chosen operation here.\")\r\n",
    "if Operator == \"a\":\r\n",
    "    Operation = \"+\"\r\n",
    "    Answer = First_Number + Second_Number\r\n",
    "elif Operator == \"b\":\r\n",
    "    Operation = \"-\"\r\n",
    "    Answer = First_Number - Second_Number\r\n",
    "elif Operator == \"c\":\r\n",
    "    Operation = \"x\"\r\n",
    "    Answer = First_Number*Second_Number\r\n",
    "elif Operator == 'd':\r\n",
    "    Operation = \"/\"\r\n",
    "    Answer = First_Number/Second_Number\r\n",
    "elif Operator =='e':\r\n",
    "    Operation = \"^\"\r\n",
    "    Answer = First_Number**Second_Number\r\n",
    "else:\r\n",
    "    Operation = \"Invalid\"\r\n",
    "    Answer = \"Invalid\"\r\n",
    "\r\n",
    "print(\"Your chosen calculation is:\",First_Number,Operation,Second_Number,\"=\",Answer)"
   ],
   "outputs": [],
   "metadata": {}
  }
 ],
 "metadata": {
  "orig_nbformat": 4,
  "language_info": {
   "name": "python",
   "version": "3.9.7",
   "mimetype": "text/x-python",
   "codemirror_mode": {
    "name": "ipython",
    "version": 3
   },
   "pygments_lexer": "ipython3",
   "nbconvert_exporter": "python",
   "file_extension": ".py"
  },
  "kernelspec": {
   "name": "python3",
   "display_name": "Python 3.9.7 64-bit"
  },
  "interpreter": {
   "hash": "76993eed1b6a0645746c31e214de43e95dfb1af1278d67abc1344b9bd9e6bc09"
  }
 },
 "nbformat": 4,
 "nbformat_minor": 2
}